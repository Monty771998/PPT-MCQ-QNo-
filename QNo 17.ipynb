{
 "cells": [
  {
   "cell_type": "code",
   "execution_count": 1,
   "id": "9bd996a0-9c13-47cc-9d61-c4f6d01de1f2",
   "metadata": {},
   "outputs": [],
   "source": [
    "def even_num():\n",
    "    '''printing only even number from list'''\n",
    "    return [x for x in l if x%2==0  ]\n",
    "\n",
    "l = [1,2,3,4,5,6,7,8,9,10,11,12,13,14,15]\n",
    " "
   ]
  },
  {
   "cell_type": "code",
   "execution_count": 2,
   "id": "f553371c-ab08-4e8f-a9ee-0f6fc038b6a0",
   "metadata": {},
   "outputs": [
    {
     "data": {
      "text/plain": [
       "[2, 4, 6, 8, 10, 12, 14]"
      ]
     },
     "execution_count": 2,
     "metadata": {},
     "output_type": "execute_result"
    }
   ],
   "source": [
    "even_num()"
   ]
  },
  {
   "cell_type": "code",
   "execution_count": null,
   "id": "05f369b7-c150-4f5b-86b9-5ad7c39a65b9",
   "metadata": {},
   "outputs": [],
   "source": []
  },
  {
   "cell_type": "code",
   "execution_count": null,
   "id": "075f1964-6894-44b5-861b-211d56a0fd9c",
   "metadata": {},
   "outputs": [],
   "source": []
  }
 ],
 "metadata": {
  "kernelspec": {
   "display_name": "Python 3 (ipykernel)",
   "language": "python",
   "name": "python3"
  },
  "language_info": {
   "codemirror_mode": {
    "name": "ipython",
    "version": 3
   },
   "file_extension": ".py",
   "mimetype": "text/x-python",
   "name": "python",
   "nbconvert_exporter": "python",
   "pygments_lexer": "ipython3",
   "version": "3.10.8"
  }
 },
 "nbformat": 4,
 "nbformat_minor": 5
}
